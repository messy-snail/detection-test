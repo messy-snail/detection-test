{
 "cells": [
  {
   "cell_type": "markdown",
   "source": [
    "## 필요한 모듈들 import"
   ],
   "metadata": {}
  },
  {
   "cell_type": "code",
   "execution_count": null,
   "source": [
    "import realsense as rs\n",
    "\n",
    "import sys\n",
    "\n",
    "import jetson.inference\n",
    "import jetson.utils\n",
    "\n",
    "import numpy as np\n",
    "import cv2\n",
    "import copy\n",
    "\n",
    "import json\n",
    "\n",
    "FONT = cv2.FONT_HERSHEY_SIMPLEX\n",
    "LINE = cv2.LINE_AA"
   ],
   "outputs": [],
   "metadata": {}
  },
  {
   "cell_type": "markdown",
   "source": [
    "## 카메라 선언 및 key 불러오기"
   ],
   "metadata": {}
  },
  {
   "cell_type": "code",
   "execution_count": null,
   "source": [
    "cam = rs.realsense()\n",
    "cam.open()\n",
    "with open('human_pose.json') as f:\n",
    "    data = json.load(f)\n",
    "keypoints_name_list = data['keypoints']\n"
   ],
   "outputs": [],
   "metadata": {}
  }
 ],
 "metadata": {
  "orig_nbformat": 4,
  "language_info": {
   "name": "python",
   "version": "3.6.9"
  },
  "kernelspec": {
   "name": "python3",
   "display_name": "Python 3.6.9 64-bit"
  },
  "interpreter": {
   "hash": "31f2aee4e71d21fbe5cf8b01ff0e069b9275f58929596ceb00d14d90e3e16cd6"
  }
 },
 "nbformat": 4,
 "nbformat_minor": 2
}